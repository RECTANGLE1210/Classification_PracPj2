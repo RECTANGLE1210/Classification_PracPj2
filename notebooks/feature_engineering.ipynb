{
 "cells": [
  {
   "cell_type": "code",
   "execution_count": null,
   "metadata": {},
   "outputs": [],
   "source": [
    "import pandas as pd\n",
    "import numpy as np\n",
    "from sklearn.preprocessing import LabelEncoder\n",
    "from sklearn.preprocessing import StandardScaler, MinMaxScaler\n",
    "from sklearn.decomposition import PCA"
   ]
  },
  {
   "cell_type": "code",
   "execution_count": 3,
   "metadata": {},
   "outputs": [],
   "source": [
    "# Load the data\n",
    "filepath = '../data/raw/train.csv'\n",
    "data = pd.read_csv(filepath, index_col='id')"
   ]
  },
  {
   "cell_type": "code",
   "execution_count": null,
   "metadata": {},
   "outputs": [],
   "source": [
    "le = LabelEncoder()\n",
    "data['Gender'] = le.fit_transform(data['Gender']) # 0: Female, 1: Male \n",
    "data['Vehicle_Age'] = le.fit_transform(data['Vehicle_Age']) #  0: 1-2 years, 1: < 1 year, 2: > 2 years\n",
    "data['Vehicle_Damage'] = le.fit_transform(data['Vehicle_Damage']) # 0: No, 1: Yes"
   ]
  }
 ],
 "metadata": {
  "kernelspec": {
   "display_name": "MyProjectPython",
   "language": "python",
   "name": "python3"
  },
  "language_info": {
   "codemirror_mode": {
    "name": "ipython",
    "version": 3
   },
   "file_extension": ".py",
   "mimetype": "text/x-python",
   "name": "python",
   "nbconvert_exporter": "python",
   "pygments_lexer": "ipython3",
   "version": "3.12.8"
  }
 },
 "nbformat": 4,
 "nbformat_minor": 2
}
